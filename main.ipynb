{
  "nbformat": 4,
  "nbformat_minor": 0,
  "metadata": {
    "colab": {
      "provenance": []
    },
    "kernelspec": {
      "name": "python3",
      "display_name": "Python 3"
    },
    "language_info": {
      "name": "python"
    }
  },
  "cells": [
    {
      "cell_type": "code",
      "execution_count": null,
      "metadata": {
        "colab": {
          "base_uri": "https://localhost:8080/"
        },
        "id": "iVWS1dhOEKaJ",
        "outputId": "1fb9a5e2-cf34-41d9-b90a-6586db30596a"
      },
      "outputs": [
        {
          "output_type": "stream",
          "name": "stdout",
          "text": [
            "Requirement already satisfied: pygame in /usr/local/lib/python3.11/dist-packages (2.6.1)\n"
          ]
        }
      ],
      "source": [
        "!pip install pygame\n"
      ]
    },
    {
      "cell_type": "code",
      "source": [
        "import pygame\n",
        "import numpy as np\n",
        "import random\n",
        "import matplotlib.pyplot as plt\n",
        "\n",
        "# 游戏参数\n",
        "WINDOW_SIZE = 600\n",
        "GRID_SIZE = 3\n",
        "CELL_SIZE = WINDOW_SIZE // GRID_SIZE\n",
        "\n",
        "# 颜色定义\n",
        "WHITE = (255, 255, 255)\n",
        "LINE_COLOR = (0, 0, 0)\n",
        "X_COLOR = (242, 85, 96)  # 玩家 X\n",
        "O_COLOR = (28, 170, 156)  # 玩家 O\n",
        "BG_COLOR = (255, 255, 255)  # White background\n",
        "\n",
        "# 创建游戏窗口和 Pygame 环境\n",
        "pygame.init()\n",
        "\n",
        "# 绘制棋盘\n",
        "def draw_board():\n",
        "    board_surface.fill(WHITE)\n",
        "    # 绘制横线和竖线\n",
        "    for i in range(1, GRID_SIZE):\n",
        "        pygame.draw.line(board_surface, LINE_COLOR, (0, i * CELL_SIZE), (WINDOW_SIZE, i * CELL_SIZE), 5)\n",
        "        pygame.draw.line(board_surface, LINE_COLOR, (i * CELL_SIZE, 0), (i * CELL_SIZE, WINDOW_SIZE), 5)\n",
        "\n",
        "# 绘制 X 和 O\n",
        "def draw_marks(board):\n",
        "    for row in range(GRID_SIZE):\n",
        "        for col in range(GRID_SIZE):\n",
        "            if board[row, col] == 1:\n",
        "                draw_x(row, col)\n",
        "            elif board[row, col] == -1:\n",
        "                draw_o(row, col)\n",
        "\n",
        "# 绘制 X\n",
        "def draw_x(row, col):\n",
        "    pygame.draw.line(board_surface, X_COLOR, (col * CELL_SIZE + 15, row * CELL_SIZE + 15),\n",
        "                     ((col + 1) * CELL_SIZE - 15, (row + 1) * CELL_SIZE - 15), 15)\n",
        "    pygame.draw.line(board_surface, X_COLOR, ((col + 1) * CELL_SIZE - 15, row * CELL_SIZE + 15),\n",
        "                     (col * CELL_SIZE + 15, (row + 1) * CELL_SIZE - 15), 15)\n",
        "\n",
        "# 绘制 O\n",
        "def draw_o(row, col):\n",
        "    pygame.draw.circle(board_surface, O_COLOR, (col * CELL_SIZE + CELL_SIZE // 2, row * CELL_SIZE + CELL_SIZE // 2),\n",
        "                       CELL_SIZE // 2 - 15, 15)\n",
        "\n",
        "# 将 Pygame 表面转换为 NumPy 数组\n",
        "def get_board_image():\n",
        "    return np.array(pygame.surfarray.array3d(board_surface))\n",
        "\n",
        "# 玩家操作\n",
        "def player_move(env, player):\n",
        "    valid_move = False\n",
        "    while not valid_move:\n",
        "        for event in pygame.event.get():\n",
        "            if event.type == pygame.QUIT:\n",
        "                pygame.quit()\n",
        "                return None, None, None\n",
        "            if event.type == pygame.MOUSEBUTTONDOWN:\n",
        "                pos = pygame.mouse.get_pos()\n",
        "                row, col = pos[1] // CELL_SIZE, pos[0] // CELL_SIZE\n",
        "                action = row * GRID_SIZE + col\n",
        "                if env.board[row, col] == 0:\n",
        "                    valid_move = True\n",
        "                    next_state, reward, done = env.step(action, player)\n",
        "                    return next_state, reward, done\n",
        "    return None, None, None\n",
        "\n",
        "# Tic-Tac-Toe 环境\n",
        "class TicTacToeEnv:\n",
        "    def __init__(self):\n",
        "        self.board = np.zeros((3, 3))  # 3x3 board, 0 = empty, 1 = agent, -1 = opponent\n",
        "        self.done = False\n",
        "        self.winner = None\n",
        "\n",
        "    def reset(self):\n",
        "        self.board = np.zeros((3, 3))\n",
        "        self.done = False\n",
        "        self.winner = None\n",
        "        return self.board.flatten()\n",
        "\n",
        "    def step(self, action, player):\n",
        "        row, col = divmod(action, 3)\n",
        "        if self.board[row, col] != 0:\n",
        "            return self.board.flatten(), -10, True  # Invalid move, penalty\n",
        "        self.board[row, col] = player\n",
        "\n",
        "        if self.check_winner(player):\n",
        "            self.done = True\n",
        "            self.winner = player\n",
        "            return self.board.flatten(), 10, self.done  # Positive reward for winning\n",
        "        elif np.all(self.board != 0):\n",
        "            self.done = True\n",
        "            return self.board.flatten(), 0, self.done  # No winner, tie\n",
        "        else:\n",
        "            return self.board.flatten(), 0, self.done  # Continue playing\n",
        "\n",
        "    def check_winner(self, player):\n",
        "        for row in range(3):\n",
        "            if np.all(self.board[row, :] == player):\n",
        "                return True\n",
        "        for col in range(3):\n",
        "            if np.all(self.board[:, col] == player):\n",
        "                return True\n",
        "        if np.all(np.diagonal(self.board) == player):\n",
        "            return True\n",
        "        if np.all(np.diagonal(np.fliplr(self.board)) == player):\n",
        "            return True\n",
        "        return False\n",
        "\n",
        "    def render(self):\n",
        "        draw_board()\n",
        "        draw_marks(self.board)  # Draw both X and O marks\n",
        "        image = get_board_image()\n",
        "        plt.imshow(image)\n",
        "        plt.axis('off')  # Hide the axis\n",
        "        plt.show()\n",
        "\n",
        "# 游戏展示\n",
        "def play_game(agent, env):\n",
        "    state = env.reset()\n",
        "    done = False\n",
        "    while not done:\n",
        "        # 玩家选择行动\n",
        "        next_state, reward, done = player_move(env, player=-1)  # 玩家是 -1\n",
        "        if done:\n",
        "            print(\"Game Over! Player Wins!\" if reward > 0 else \"Game Over! It's a Tie.\")\n",
        "            break\n",
        "        env.render()\n",
        "\n",
        "        # 智能体选择行动\n",
        "        action = agent.choose_action(state)\n",
        "        print(f\"Agent chooses action {action}\")\n",
        "        next_state, reward, done = env.step(action, player=1)  # 假设智能体为1号玩家\n",
        "        agent.update_q_value(state, action, reward, next_state, done)\n",
        "        state = next_state\n",
        "        env.render()  # 智能体的回合渲染\n",
        "\n",
        "        if done:\n",
        "            print(\"Game Over! Agent Wins!\" if reward > 0 else \"Game Over! It's a Tie.\")\n",
        "            break\n",
        "\n",
        "# Q-learning 智能体\n",
        "class QLearningAgent:\n",
        "    def __init__(self, action_space, epsilon=0.1, alpha=0.5, gamma=0.9):\n",
        "        self.action_space = action_space\n",
        "        self.epsilon = epsilon\n",
        "        self.alpha = alpha\n",
        "        self.gamma = gamma\n",
        "        self.q_table = {}\n",
        "\n",
        "    def get_q_value(self, state, action):\n",
        "        if tuple(state) not in self.q_table:\n",
        "            self.q_table[tuple(state)] = np.zeros(len(self.action_space))\n",
        "        return self.q_table[tuple(state)][action]\n",
        "\n",
        "    def update_q_value(self, state, action, reward, next_state, done):\n",
        "        future_q_value = 0 if done else np.max(self.q_table.get(tuple(next_state), np.zeros(len(self.action_space))))\n",
        "        current_q_value = self.get_q_value(state, action)\n",
        "        new_q_value = current_q_value + self.alpha * (reward + self.gamma * future_q_value - current_q_value)\n",
        "        self.q_table[tuple(state)][action] = new_q_value\n",
        "\n",
        "    def choose_action(self, state):\n",
        "        if random.uniform(0, 1) < self.epsilon:\n",
        "            return random.choice(self.action_space)\n",
        "        else:\n",
        "            return np.argmax(self.q_table.get(tuple(state), np.zeros(len(self.action_space))))\n",
        "\n",
        "# 主函数和游戏循环\n",
        "def main():\n",
        "    agent = QLearningAgent(action_space=list(range(9)))\n",
        "    env = TicTacToeEnv()\n",
        "\n",
        "    while True:\n",
        "        env.render()  # 渲染初始棋盘\n",
        "        play_game(agent, env)  # 开始游戏\n",
        "\n",
        "if __name__ == \"__main__\":\n",
        "    board_surface = pygame.Surface((WINDOW_SIZE, WINDOW_SIZE))  # Pygame surface for drawing\n",
        "    main()\n",
        "\n"
      ],
      "metadata": {
        "colab": {
          "base_uri": "https://localhost:8080/",
          "height": 728
        },
        "id": "ve_onP8VG85j",
        "outputId": "d806dca7-b21c-4a65-da1c-f844fe1bbb36"
      },
      "execution_count": null,
      "outputs": [
        {
          "output_type": "display_data",
          "data": {
            "text/plain": [
              "<Figure size 640x480 with 1 Axes>"
            ],
            "image/png": "[encoded data removed]"
          },
          "metadata": {}
        },
        {
          "output_type": "error",
          "ename": "KeyboardInterrupt",
          "evalue": "",
          "traceback": [
            "\u001b[0;31m---------------------------------------------------------------------------\u001b[0m",
            "\u001b[0;31mKeyboardInterrupt\u001b[0m                         Traceback (most recent call last)",
            "\u001b[0;32m<ipython-input-4-34a027a40402>\u001b[0m in \u001b[0;36m<cell line: 0>\u001b[0;34m()\u001b[0m\n\u001b[1;32m    181\u001b[0m \u001b[0;32mif\u001b[0m \u001b[0m__name__\u001b[0m \u001b[0;34m==\u001b[0m \u001b[0;34m\"__main__\"\u001b[0m\u001b[0;34m:\u001b[0m\u001b[0;34m\u001b[0m\u001b[0;34m\u001b[0m\u001b[0m\n\u001b[1;32m    182\u001b[0m     \u001b[0mboard_surface\u001b[0m \u001b[0;34m=\u001b[0m \u001b[0mpygame\u001b[0m\u001b[0;34m.\u001b[0m\u001b[0mSurface\u001b[0m\u001b[0;34m(\u001b[0m\u001b[0;34m(\u001b[0m\u001b[0mWINDOW_SIZE\u001b[0m\u001b[0;34m,\u001b[0m \u001b[0mWINDOW_SIZE\u001b[0m\u001b[0;34m)\u001b[0m\u001b[0;34m)\u001b[0m  \u001b[0;31m# Pygame surface for drawing\u001b[0m\u001b[0;34m\u001b[0m\u001b[0;34m\u001b[0m\u001b[0m\n\u001b[0;32m--> 183\u001b[0;31m     \u001b[0mmain\u001b[0m\u001b[0;34m(\u001b[0m\u001b[0;34m)\u001b[0m\u001b[0;34m\u001b[0m\u001b[0;34m\u001b[0m\u001b[0m\n\u001b[0m\u001b[1;32m    184\u001b[0m \u001b[0;34m\u001b[0m\u001b[0m\n",
            "\u001b[0;32m<ipython-input-4-34a027a40402>\u001b[0m in \u001b[0;36mmain\u001b[0;34m()\u001b[0m\n\u001b[1;32m    177\u001b[0m     \u001b[0;32mwhile\u001b[0m \u001b[0;32mTrue\u001b[0m\u001b[0;34m:\u001b[0m\u001b[0;34m\u001b[0m\u001b[0;34m\u001b[0m\u001b[0m\n\u001b[1;32m    178\u001b[0m         \u001b[0menv\u001b[0m\u001b[0;34m.\u001b[0m\u001b[0mrender\u001b[0m\u001b[0;34m(\u001b[0m\u001b[0;34m)\u001b[0m  \u001b[0;31m# 渲染初始棋盘\u001b[0m\u001b[0;34m\u001b[0m\u001b[0;34m\u001b[0m\u001b[0m\n\u001b[0;32m--> 179\u001b[0;31m         \u001b[0mplay_game\u001b[0m\u001b[0;34m(\u001b[0m\u001b[0magent\u001b[0m\u001b[0;34m,\u001b[0m \u001b[0menv\u001b[0m\u001b[0;34m)\u001b[0m  \u001b[0;31m# 开始游戏\u001b[0m\u001b[0;34m\u001b[0m\u001b[0;34m\u001b[0m\u001b[0m\n\u001b[0m\u001b[1;32m    180\u001b[0m \u001b[0;34m\u001b[0m\u001b[0m\n\u001b[1;32m    181\u001b[0m \u001b[0;32mif\u001b[0m \u001b[0m__name__\u001b[0m \u001b[0;34m==\u001b[0m \u001b[0;34m\"__main__\"\u001b[0m\u001b[0;34m:\u001b[0m\u001b[0;34m\u001b[0m\u001b[0;34m\u001b[0m\u001b[0m\n",
            "\u001b[0;32m<ipython-input-4-34a027a40402>\u001b[0m in \u001b[0;36mplay_game\u001b[0;34m(agent, env)\u001b[0m\n\u001b[1;32m    126\u001b[0m     \u001b[0;32mwhile\u001b[0m \u001b[0;32mnot\u001b[0m \u001b[0mdone\u001b[0m\u001b[0;34m:\u001b[0m\u001b[0;34m\u001b[0m\u001b[0;34m\u001b[0m\u001b[0m\n\u001b[1;32m    127\u001b[0m         \u001b[0;31m# 玩家选择行动\u001b[0m\u001b[0;34m\u001b[0m\u001b[0;34m\u001b[0m\u001b[0m\n\u001b[0;32m--> 128\u001b[0;31m         \u001b[0mnext_state\u001b[0m\u001b[0;34m,\u001b[0m \u001b[0mreward\u001b[0m\u001b[0;34m,\u001b[0m \u001b[0mdone\u001b[0m \u001b[0;34m=\u001b[0m \u001b[0mplayer_move\u001b[0m\u001b[0;34m(\u001b[0m\u001b[0menv\u001b[0m\u001b[0;34m,\u001b[0m \u001b[0mplayer\u001b[0m\u001b[0;34m=\u001b[0m\u001b[0;34m-\u001b[0m\u001b[0;36m1\u001b[0m\u001b[0;34m)\u001b[0m  \u001b[0;31m# 玩家是 -1\u001b[0m\u001b[0;34m\u001b[0m\u001b[0;34m\u001b[0m\u001b[0m\n\u001b[0m\u001b[1;32m    129\u001b[0m         \u001b[0;32mif\u001b[0m \u001b[0mdone\u001b[0m\u001b[0;34m:\u001b[0m\u001b[0;34m\u001b[0m\u001b[0;34m\u001b[0m\u001b[0m\n\u001b[1;32m    130\u001b[0m             \u001b[0mprint\u001b[0m\u001b[0;34m(\u001b[0m\u001b[0;34m\"Game Over! Player Wins!\"\u001b[0m \u001b[0;32mif\u001b[0m \u001b[0mreward\u001b[0m \u001b[0;34m>\u001b[0m \u001b[0;36m0\u001b[0m \u001b[0;32melse\u001b[0m \u001b[0;34m\"Game Over! It's a Tie.\"\u001b[0m\u001b[0;34m)\u001b[0m\u001b[0;34m\u001b[0m\u001b[0;34m\u001b[0m\u001b[0m\n",
            "\u001b[0;32m<ipython-input-4-34a027a40402>\u001b[0m in \u001b[0;36mplayer_move\u001b[0;34m(env, player)\u001b[0m\n\u001b[1;32m     56\u001b[0m     \u001b[0mvalid_move\u001b[0m \u001b[0;34m=\u001b[0m \u001b[0;32mFalse\u001b[0m\u001b[0;34m\u001b[0m\u001b[0;34m\u001b[0m\u001b[0m\n\u001b[1;32m     57\u001b[0m     \u001b[0;32mwhile\u001b[0m \u001b[0;32mnot\u001b[0m \u001b[0mvalid_move\u001b[0m\u001b[0;34m:\u001b[0m\u001b[0;34m\u001b[0m\u001b[0;34m\u001b[0m\u001b[0m\n\u001b[0;32m---> 58\u001b[0;31m         \u001b[0;32mfor\u001b[0m \u001b[0mevent\u001b[0m \u001b[0;32min\u001b[0m \u001b[0mpygame\u001b[0m\u001b[0;34m.\u001b[0m\u001b[0mevent\u001b[0m\u001b[0;34m.\u001b[0m\u001b[0mget\u001b[0m\u001b[0;34m(\u001b[0m\u001b[0;34m)\u001b[0m\u001b[0;34m:\u001b[0m\u001b[0;34m\u001b[0m\u001b[0;34m\u001b[0m\u001b[0m\n\u001b[0m\u001b[1;32m     59\u001b[0m             \u001b[0;32mif\u001b[0m \u001b[0mevent\u001b[0m\u001b[0;34m.\u001b[0m\u001b[0mtype\u001b[0m \u001b[0;34m==\u001b[0m \u001b[0mpygame\u001b[0m\u001b[0;34m.\u001b[0m\u001b[0mQUIT\u001b[0m\u001b[0;34m:\u001b[0m\u001b[0;34m\u001b[0m\u001b[0;34m\u001b[0m\u001b[0m\n\u001b[1;32m     60\u001b[0m                 \u001b[0mpygame\u001b[0m\u001b[0;34m.\u001b[0m\u001b[0mquit\u001b[0m\u001b[0;34m(\u001b[0m\u001b[0;34m)\u001b[0m\u001b[0;34m\u001b[0m\u001b[0;34m\u001b[0m\u001b[0m\n",
            "\u001b[0;31mKeyboardInterrupt\u001b[0m: "
          ]
        }
      ]
    },
    {
      "cell_type": "code",
      "source": [
        "!git config --global user.name \"yzc03\"\n",
        "!git config --global user.email \"yuanzicheng03@163.com\"\n"
      ],
      "metadata": {
        "id": "WAO51nk_16zC"
      },
      "execution_count": 6,
      "outputs": []
    },
    {
      "cell_type": "code",
      "source": [
        "\n"
      ],
      "metadata": {
        "colab": {
          "base_uri": "https://localhost:8080/"
        },
        "id": "UvJiPP2Z2EMM",
        "outputId": "cb3a9a60-a1c1-4ac9-d770-5d71aa4a7a90"
      },
      "execution_count": 12,
      "outputs": [
        {
          "output_type": "stream",
          "name": "stdout",
          "text": [
            "fatal: not a git repository (or any of the parent directories): .git\n"
          ]
        }
      ]
    },
    {
      "cell_type": "code",
      "source": [
        "\n"
      ],
      "metadata": {
        "id": "Os-YS0Rc2HlS"
      },
      "execution_count": 11,
      "outputs": []
    }
  ]
}